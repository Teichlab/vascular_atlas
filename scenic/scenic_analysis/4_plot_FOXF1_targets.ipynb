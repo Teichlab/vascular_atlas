{
 "cells": [
  {
   "cell_type": "markdown",
   "id": "57162bc4-fb62-4d37-af64-40199e688cf8",
   "metadata": {},
   "source": [
    "# Figure 3f - FOXF1(+) target genes"
   ]
  },
  {
   "cell_type": "code",
   "execution_count": 52,
   "id": "2812b82c-25bf-489c-bb99-3a84695ce36c",
   "metadata": {},
   "outputs": [],
   "source": [
    "import json, zlib, base64\n",
    "import pandas as pd\n",
    "import scanpy as sc\n",
    "import loompy as lp"
   ]
  },
  {
   "cell_type": "markdown",
   "id": "9cb25513-a1e2-4b33-ac14-fb30247cc63d",
   "metadata": {},
   "source": [
    "## 1) load anndata object"
   ]
  },
  {
   "cell_type": "markdown",
   "id": "3fe99f03-a9f9-42c5-8260-6f47567636e6",
   "metadata": {},
   "source": [
    "she used the vasculature wide object and filters out smooth muscle cells, pericytes and lymphatic endothelial cells"
   ]
  },
  {
   "cell_type": "code",
   "execution_count": 70,
   "id": "00922b20-85fe-4097-bfdc-b9d39949e1f1",
   "metadata": {},
   "outputs": [],
   "source": [
    "ad = sc.read_h5ad('/nfs/team205/ac65/vasculature/after_annotation/annotated_objects/vas_object_for_scenic_july2024.h5ad')"
   ]
  },
  {
   "cell_type": "code",
   "execution_count": 71,
   "id": "18b50d85-5041-46d0-b0c7-d03024aa5531",
   "metadata": {},
   "outputs": [],
   "source": [
    "ad = ad[~ad.obs['scenic_compartment'].isin(['smc', 'pericytes', 'lymphatic_ec'])].copy()"
   ]
  },
  {
   "cell_type": "code",
   "execution_count": 72,
   "id": "5d92d181-0142-4fe6-a114-6d0f7feab29d",
   "metadata": {},
   "outputs": [
    {
     "data": {
      "text/plain": [
       "(0.0, 8.639950230999009, None)"
      ]
     },
     "execution_count": 72,
     "metadata": {},
     "output_type": "execute_result"
    }
   ],
   "source": [
    "ad.X.min(), ad.X.max(), ad.raw"
   ]
  },
  {
   "cell_type": "code",
   "execution_count": 35,
   "id": "36cc1bbf-7248-4acc-b2ac-6b1cb78d4e4b",
   "metadata": {
    "collapsed": true,
    "jupyter": {
     "outputs_hidden": true
    }
   },
   "outputs": [
    {
     "data": {
      "text/plain": [
       "AnnData object with n_obs × n_vars = 27345 × 30021\n",
       "    obs: 'orig.ident', 'Sample', 'Winkler_annotation_ec', 'Winkler_annotation_mural', 'Winkler_annotation_mural_fine', 'donor', 'kit', 'study', 'organ_uni', 'Winkler_annotation', 'n_genes_by_counts', 'log1p_n_genes_by_counts', 'total_counts', 'log1p_total_counts', 'pct_counts_in_top_50_genes', 'pct_counts_in_top_100_genes', 'pct_counts_in_top_200_genes', 'pct_counts_in_top_500_genes', 'total_counts_mt', 'log1p_total_counts_mt', 'pct_counts_mt', 'total_counts_rb', 'pct_counts_rb', 'Winkler_broad_annotation', 'id', 'organ', 'sorting', 'location', 'age', 'gender', 'dissociation', 'scrublet_score', 'doublet_bh_pval', 'published_annotation', 'HCA', 'published_annotation_skin', 'batch', 'cell_ontology_class', 'free_annotation', 'compartment', 'age2', 'barcode', 'concat_sample_no', 'Population ', 'hospital_id', 'Organ', 'Cell_category', 'Predicted_labels_CellTypist', 'Majority_voting_CellTypist', 'Majority_voting_CellTypist_high', 'doublet_pval', 'Project', 'broad_celltype', 'int_or_ext', 'original_index', 'ann_vas_2', 'index_uni', 'leiden_scVI', 'ann_vas_1', 'ann_vas_3', 'ann_vas_3_copy', 'ann_vas_2_copy', 'ann_compartment', 'n_genes', '_scvi_batch', '_scvi_labels', 'brain_18_org_vas_annotation', 'leiden_res_0.5', 'leiden_res_1', 'brain_18_org_vas_annotation_coarse', 'ann_vas_mid', 'ann_merged_final', 'leiden_anno', 'donor_organ', 'leiden_0.1', 'leiden_0.5', 'leiden_1', 'ann_vas_state', 'ann_vas_state_2', 'ann_final', 'scenic_compartment', 'ann_vas_scenic'\n",
       "    var: 'mt', 'rb', 'n_cells', 'highly_variable', 'highly_variable_rank', 'means', 'variances', 'variances_norm', 'highly_variable_nbatches', 'gene_ids-0', 'n_cells_by_counts-0', 'mean_counts-0', 'log1p_mean_counts-0', 'pct_dropout_by_counts-0', 'total_counts-0', 'log1p_total_counts-0', 'n_cells_by_counts-1', 'mean_counts-1', 'pct_dropout_by_counts-1', 'total_counts-1', 'ENSG_id-1', 'gene_name_33538-1', 'gene_name_33694-1', 'gene_names_hg_v1.2-0-0-1'\n",
       "    uns: 'Winkler_annotation_colors', 'Winkler_annotation_ec_colors', 'Winkler_annotation_mural_colors', '_scvi_manager_uuid', '_scvi_uuid', 'ann_compartment_colors', 'ann_final_colors', 'ann_vas_1_colors', 'ann_vas_mid_colors', 'ann_vas_mid_final_colors', 'ann_vas_scenic_colors', 'ann_vas_state_2_colors', 'ann_vas_state_colors', 'donor_colors', 'hvg', 'leiden', 'leiden_0.1_colors', 'leiden_0.5_colors', 'leiden_1_colors', 'leiden_anno_colors', 'neighbors', 'organ_colors', 'scenic_compartment_colors', 'study_colors', 'umap'\n",
       "    obsm: 'X_scVI', 'X_umap', '_scvi_extra_categorical_covs', '_scvi_extra_continuous_covs'\n",
       "    layers: 'counts'\n",
       "    obsp: 'connectivities', 'distances'"
      ]
     },
     "execution_count": 35,
     "metadata": {},
     "output_type": "execute_result"
    }
   ],
   "source": [
    "ad"
   ]
  },
  {
   "cell_type": "markdown",
   "id": "c419ffe3-b236-49a2-a655-b03d97f9dd49",
   "metadata": {},
   "source": [
    "## 2) find DE genes"
   ]
  },
  {
   "cell_type": "code",
   "execution_count": 73,
   "id": "3121375a-bf8a-4911-b854-a8a7602d793f",
   "metadata": {},
   "outputs": [
    {
     "data": {
      "text/plain": [
       "myo_cap_ec                7842\n",
       "Littoral_EC               4845\n",
       "cap_ec                    3334\n",
       "ven_ec_2                  2522\n",
       "pul_cap_ec                2277\n",
       "art_ec_2                  2215\n",
       "ven_ec_1                  2137\n",
       "adip_cap_ec               1879\n",
       "pericentral_cap_ec        1809\n",
       "endometrium_cap_ec        1755\n",
       "pul_ven_ec                1286\n",
       "kidney_cap_ec             1067\n",
       "aerocyte_ec                952\n",
       "art_ec_1                   858\n",
       "spleen_art_ec              700\n",
       "periportal_cap_ec          660\n",
       "glomeruli_ec               609\n",
       "pul_art_ec                 581\n",
       "pul_tip_cap_ec             576\n",
       "brain_art_ec               426\n",
       "blood_brain_barrier_ec     368\n",
       "kidney_art_ec              235\n",
       "brain_ven_ec               143\n",
       "aorta_coronary_ec          138\n",
       "endocardial_ec              64\n",
       "Name: ann_vas_scenic, dtype: int64"
      ]
     },
     "execution_count": 73,
     "metadata": {},
     "output_type": "execute_result"
    }
   ],
   "source": [
    "ad.obs['ann_vas_scenic'].value_counts()"
   ]
  },
  {
   "cell_type": "markdown",
   "id": "b5f44877-6a4c-4aa1-bbd8-852875e02974",
   "metadata": {},
   "source": [
    "find DE genes with same parameters"
   ]
  },
  {
   "cell_type": "code",
   "execution_count": 74,
   "id": "e3217996-f416-4506-afcb-5799ef89bca3",
   "metadata": {
    "collapsed": true,
    "jupyter": {
     "outputs_hidden": true
    }
   },
   "outputs": [
    {
     "name": "stderr",
     "output_type": "stream",
     "text": [
      "/home/ubuntu/miniforge3/scenicplus/lib/python3.8/site-packages/scanpy/tools/_rank_genes_groups.py:394: PerformanceWarning: DataFrame is highly fragmented.  This is usually the result of calling `frame.insert` many times, which has poor performance.  Consider joining all columns at once using pd.concat(axis=1) instead. To get a de-fragmented frame, use `newframe = frame.copy()`\n",
      "  self.stats[group_name, 'names'] = self.var_names[global_indices]\n",
      "/home/ubuntu/miniforge3/scenicplus/lib/python3.8/site-packages/scanpy/tools/_rank_genes_groups.py:396: PerformanceWarning: DataFrame is highly fragmented.  This is usually the result of calling `frame.insert` many times, which has poor performance.  Consider joining all columns at once using pd.concat(axis=1) instead. To get a de-fragmented frame, use `newframe = frame.copy()`\n",
      "  self.stats[group_name, 'scores'] = scores[global_indices]\n",
      "/home/ubuntu/miniforge3/scenicplus/lib/python3.8/site-packages/scanpy/tools/_rank_genes_groups.py:399: PerformanceWarning: DataFrame is highly fragmented.  This is usually the result of calling `frame.insert` many times, which has poor performance.  Consider joining all columns at once using pd.concat(axis=1) instead. To get a de-fragmented frame, use `newframe = frame.copy()`\n",
      "  self.stats[group_name, 'pvals'] = pvals[global_indices]\n",
      "/home/ubuntu/miniforge3/scenicplus/lib/python3.8/site-packages/scanpy/tools/_rank_genes_groups.py:409: PerformanceWarning: DataFrame is highly fragmented.  This is usually the result of calling `frame.insert` many times, which has poor performance.  Consider joining all columns at once using pd.concat(axis=1) instead. To get a de-fragmented frame, use `newframe = frame.copy()`\n",
      "  self.stats[group_name, 'pvals_adj'] = pvals_adj[global_indices]\n",
      "/home/ubuntu/miniforge3/scenicplus/lib/python3.8/site-packages/scanpy/tools/_rank_genes_groups.py:420: PerformanceWarning: DataFrame is highly fragmented.  This is usually the result of calling `frame.insert` many times, which has poor performance.  Consider joining all columns at once using pd.concat(axis=1) instead. To get a de-fragmented frame, use `newframe = frame.copy()`\n",
      "  self.stats[group_name, 'logfoldchanges'] = np.log2(\n",
      "/home/ubuntu/miniforge3/scenicplus/lib/python3.8/site-packages/scanpy/tools/_rank_genes_groups.py:394: PerformanceWarning: DataFrame is highly fragmented.  This is usually the result of calling `frame.insert` many times, which has poor performance.  Consider joining all columns at once using pd.concat(axis=1) instead. To get a de-fragmented frame, use `newframe = frame.copy()`\n",
      "  self.stats[group_name, 'names'] = self.var_names[global_indices]\n",
      "/home/ubuntu/miniforge3/scenicplus/lib/python3.8/site-packages/scanpy/tools/_rank_genes_groups.py:396: PerformanceWarning: DataFrame is highly fragmented.  This is usually the result of calling `frame.insert` many times, which has poor performance.  Consider joining all columns at once using pd.concat(axis=1) instead. To get a de-fragmented frame, use `newframe = frame.copy()`\n",
      "  self.stats[group_name, 'scores'] = scores[global_indices]\n",
      "/home/ubuntu/miniforge3/scenicplus/lib/python3.8/site-packages/scanpy/tools/_rank_genes_groups.py:399: PerformanceWarning: DataFrame is highly fragmented.  This is usually the result of calling `frame.insert` many times, which has poor performance.  Consider joining all columns at once using pd.concat(axis=1) instead. To get a de-fragmented frame, use `newframe = frame.copy()`\n",
      "  self.stats[group_name, 'pvals'] = pvals[global_indices]\n",
      "/home/ubuntu/miniforge3/scenicplus/lib/python3.8/site-packages/scanpy/tools/_rank_genes_groups.py:409: PerformanceWarning: DataFrame is highly fragmented.  This is usually the result of calling `frame.insert` many times, which has poor performance.  Consider joining all columns at once using pd.concat(axis=1) instead. To get a de-fragmented frame, use `newframe = frame.copy()`\n",
      "  self.stats[group_name, 'pvals_adj'] = pvals_adj[global_indices]\n",
      "/home/ubuntu/miniforge3/scenicplus/lib/python3.8/site-packages/scanpy/tools/_rank_genes_groups.py:420: PerformanceWarning: DataFrame is highly fragmented.  This is usually the result of calling `frame.insert` many times, which has poor performance.  Consider joining all columns at once using pd.concat(axis=1) instead. To get a de-fragmented frame, use `newframe = frame.copy()`\n",
      "  self.stats[group_name, 'logfoldchanges'] = np.log2(\n",
      "/home/ubuntu/miniforge3/scenicplus/lib/python3.8/site-packages/scanpy/tools/_rank_genes_groups.py:394: PerformanceWarning: DataFrame is highly fragmented.  This is usually the result of calling `frame.insert` many times, which has poor performance.  Consider joining all columns at once using pd.concat(axis=1) instead. To get a de-fragmented frame, use `newframe = frame.copy()`\n",
      "  self.stats[group_name, 'names'] = self.var_names[global_indices]\n",
      "/home/ubuntu/miniforge3/scenicplus/lib/python3.8/site-packages/scanpy/tools/_rank_genes_groups.py:396: PerformanceWarning: DataFrame is highly fragmented.  This is usually the result of calling `frame.insert` many times, which has poor performance.  Consider joining all columns at once using pd.concat(axis=1) instead. To get a de-fragmented frame, use `newframe = frame.copy()`\n",
      "  self.stats[group_name, 'scores'] = scores[global_indices]\n",
      "/home/ubuntu/miniforge3/scenicplus/lib/python3.8/site-packages/scanpy/tools/_rank_genes_groups.py:399: PerformanceWarning: DataFrame is highly fragmented.  This is usually the result of calling `frame.insert` many times, which has poor performance.  Consider joining all columns at once using pd.concat(axis=1) instead. To get a de-fragmented frame, use `newframe = frame.copy()`\n",
      "  self.stats[group_name, 'pvals'] = pvals[global_indices]\n",
      "/home/ubuntu/miniforge3/scenicplus/lib/python3.8/site-packages/scanpy/tools/_rank_genes_groups.py:409: PerformanceWarning: DataFrame is highly fragmented.  This is usually the result of calling `frame.insert` many times, which has poor performance.  Consider joining all columns at once using pd.concat(axis=1) instead. To get a de-fragmented frame, use `newframe = frame.copy()`\n",
      "  self.stats[group_name, 'pvals_adj'] = pvals_adj[global_indices]\n",
      "/home/ubuntu/miniforge3/scenicplus/lib/python3.8/site-packages/scanpy/tools/_rank_genes_groups.py:420: PerformanceWarning: DataFrame is highly fragmented.  This is usually the result of calling `frame.insert` many times, which has poor performance.  Consider joining all columns at once using pd.concat(axis=1) instead. To get a de-fragmented frame, use `newframe = frame.copy()`\n",
      "  self.stats[group_name, 'logfoldchanges'] = np.log2(\n",
      "/home/ubuntu/miniforge3/scenicplus/lib/python3.8/site-packages/scanpy/tools/_rank_genes_groups.py:394: PerformanceWarning: DataFrame is highly fragmented.  This is usually the result of calling `frame.insert` many times, which has poor performance.  Consider joining all columns at once using pd.concat(axis=1) instead. To get a de-fragmented frame, use `newframe = frame.copy()`\n",
      "  self.stats[group_name, 'names'] = self.var_names[global_indices]\n",
      "/home/ubuntu/miniforge3/scenicplus/lib/python3.8/site-packages/scanpy/tools/_rank_genes_groups.py:396: PerformanceWarning: DataFrame is highly fragmented.  This is usually the result of calling `frame.insert` many times, which has poor performance.  Consider joining all columns at once using pd.concat(axis=1) instead. To get a de-fragmented frame, use `newframe = frame.copy()`\n",
      "  self.stats[group_name, 'scores'] = scores[global_indices]\n",
      "/home/ubuntu/miniforge3/scenicplus/lib/python3.8/site-packages/scanpy/tools/_rank_genes_groups.py:399: PerformanceWarning: DataFrame is highly fragmented.  This is usually the result of calling `frame.insert` many times, which has poor performance.  Consider joining all columns at once using pd.concat(axis=1) instead. To get a de-fragmented frame, use `newframe = frame.copy()`\n",
      "  self.stats[group_name, 'pvals'] = pvals[global_indices]\n",
      "/home/ubuntu/miniforge3/scenicplus/lib/python3.8/site-packages/scanpy/tools/_rank_genes_groups.py:409: PerformanceWarning: DataFrame is highly fragmented.  This is usually the result of calling `frame.insert` many times, which has poor performance.  Consider joining all columns at once using pd.concat(axis=1) instead. To get a de-fragmented frame, use `newframe = frame.copy()`\n",
      "  self.stats[group_name, 'pvals_adj'] = pvals_adj[global_indices]\n",
      "/home/ubuntu/miniforge3/scenicplus/lib/python3.8/site-packages/scanpy/tools/_rank_genes_groups.py:420: PerformanceWarning: DataFrame is highly fragmented.  This is usually the result of calling `frame.insert` many times, which has poor performance.  Consider joining all columns at once using pd.concat(axis=1) instead. To get a de-fragmented frame, use `newframe = frame.copy()`\n",
      "  self.stats[group_name, 'logfoldchanges'] = np.log2(\n",
      "/home/ubuntu/miniforge3/scenicplus/lib/python3.8/site-packages/scanpy/tools/_rank_genes_groups.py:394: PerformanceWarning: DataFrame is highly fragmented.  This is usually the result of calling `frame.insert` many times, which has poor performance.  Consider joining all columns at once using pd.concat(axis=1) instead. To get a de-fragmented frame, use `newframe = frame.copy()`\n",
      "  self.stats[group_name, 'names'] = self.var_names[global_indices]\n",
      "/home/ubuntu/miniforge3/scenicplus/lib/python3.8/site-packages/scanpy/tools/_rank_genes_groups.py:396: PerformanceWarning: DataFrame is highly fragmented.  This is usually the result of calling `frame.insert` many times, which has poor performance.  Consider joining all columns at once using pd.concat(axis=1) instead. To get a de-fragmented frame, use `newframe = frame.copy()`\n",
      "  self.stats[group_name, 'scores'] = scores[global_indices]\n",
      "/home/ubuntu/miniforge3/scenicplus/lib/python3.8/site-packages/scanpy/tools/_rank_genes_groups.py:399: PerformanceWarning: DataFrame is highly fragmented.  This is usually the result of calling `frame.insert` many times, which has poor performance.  Consider joining all columns at once using pd.concat(axis=1) instead. To get a de-fragmented frame, use `newframe = frame.copy()`\n",
      "  self.stats[group_name, 'pvals'] = pvals[global_indices]\n",
      "/home/ubuntu/miniforge3/scenicplus/lib/python3.8/site-packages/scanpy/tools/_rank_genes_groups.py:409: PerformanceWarning: DataFrame is highly fragmented.  This is usually the result of calling `frame.insert` many times, which has poor performance.  Consider joining all columns at once using pd.concat(axis=1) instead. To get a de-fragmented frame, use `newframe = frame.copy()`\n",
      "  self.stats[group_name, 'pvals_adj'] = pvals_adj[global_indices]\n",
      "/home/ubuntu/miniforge3/scenicplus/lib/python3.8/site-packages/scanpy/tools/_rank_genes_groups.py:420: PerformanceWarning: DataFrame is highly fragmented.  This is usually the result of calling `frame.insert` many times, which has poor performance.  Consider joining all columns at once using pd.concat(axis=1) instead. To get a de-fragmented frame, use `newframe = frame.copy()`\n",
      "  self.stats[group_name, 'logfoldchanges'] = np.log2(\n"
     ]
    }
   ],
   "source": [
    "sc.tl.rank_genes_groups(ad, groupby=\"ann_vas_scenic\", method='wilcoxon', use_raw=False)"
   ]
  },
  {
   "cell_type": "code",
   "execution_count": 75,
   "id": "3be90f85-4a13-4083-9b68-1fb5bf57b357",
   "metadata": {},
   "outputs": [],
   "source": [
    "sc.tl.filter_rank_genes_groups(\n",
    "    ad,\n",
    "    groupby='ann_vas_scenic',\n",
    "    key_added=\"DEG_filtered\",\n",
    "    min_in_group_fraction=0.25,\n",
    "    min_fold_change=2,\n",
    "    max_out_group_fraction=0.25,\n",
    "    use_raw=False\n",
    ")"
   ]
  },
  {
   "cell_type": "code",
   "execution_count": 76,
   "id": "cb40d8b4-b103-4922-ac73-56d11227cc49",
   "metadata": {},
   "outputs": [],
   "source": [
    "dedf = sc.get.rank_genes_groups_df(ad, group = None, key='DEG_filtered').query(\"~names.isna()\")"
   ]
  },
  {
   "cell_type": "code",
   "execution_count": 77,
   "id": "d6d003e5-b67a-4004-97c7-144326ffec86",
   "metadata": {},
   "outputs": [
    {
     "data": {
      "text/html": [
       "<div>\n",
       "<style scoped>\n",
       "    .dataframe tbody tr th:only-of-type {\n",
       "        vertical-align: middle;\n",
       "    }\n",
       "\n",
       "    .dataframe tbody tr th {\n",
       "        vertical-align: top;\n",
       "    }\n",
       "\n",
       "    .dataframe thead th {\n",
       "        text-align: right;\n",
       "    }\n",
       "</style>\n",
       "<table border=\"1\" class=\"dataframe\">\n",
       "  <thead>\n",
       "    <tr style=\"text-align: right;\">\n",
       "      <th></th>\n",
       "      <th>group</th>\n",
       "      <th>names</th>\n",
       "      <th>scores</th>\n",
       "      <th>logfoldchanges</th>\n",
       "      <th>pvals</th>\n",
       "      <th>pvals_adj</th>\n",
       "    </tr>\n",
       "  </thead>\n",
       "  <tbody>\n",
       "    <tr>\n",
       "      <th>1</th>\n",
       "      <td>Littoral_EC</td>\n",
       "      <td>KAZN</td>\n",
       "      <td>95.540451</td>\n",
       "      <td>5.738473</td>\n",
       "      <td>0.0</td>\n",
       "      <td>0.0</td>\n",
       "    </tr>\n",
       "    <tr>\n",
       "      <th>3</th>\n",
       "      <td>Littoral_EC</td>\n",
       "      <td>NTN4</td>\n",
       "      <td>91.742348</td>\n",
       "      <td>4.131320</td>\n",
       "      <td>0.0</td>\n",
       "      <td>0.0</td>\n",
       "    </tr>\n",
       "    <tr>\n",
       "      <th>4</th>\n",
       "      <td>Littoral_EC</td>\n",
       "      <td>LSP1</td>\n",
       "      <td>91.435188</td>\n",
       "      <td>7.229937</td>\n",
       "      <td>0.0</td>\n",
       "      <td>0.0</td>\n",
       "    </tr>\n",
       "    <tr>\n",
       "      <th>6</th>\n",
       "      <td>Littoral_EC</td>\n",
       "      <td>DHCR24</td>\n",
       "      <td>91.178131</td>\n",
       "      <td>6.136711</td>\n",
       "      <td>0.0</td>\n",
       "      <td>0.0</td>\n",
       "    </tr>\n",
       "    <tr>\n",
       "      <th>7</th>\n",
       "      <td>Littoral_EC</td>\n",
       "      <td>NR5A1</td>\n",
       "      <td>89.604752</td>\n",
       "      <td>7.566905</td>\n",
       "      <td>0.0</td>\n",
       "      <td>0.0</td>\n",
       "    </tr>\n",
       "  </tbody>\n",
       "</table>\n",
       "</div>"
      ],
      "text/plain": [
       "         group   names     scores  logfoldchanges  pvals  pvals_adj\n",
       "1  Littoral_EC    KAZN  95.540451        5.738473    0.0        0.0\n",
       "3  Littoral_EC    NTN4  91.742348        4.131320    0.0        0.0\n",
       "4  Littoral_EC    LSP1  91.435188        7.229937    0.0        0.0\n",
       "6  Littoral_EC  DHCR24  91.178131        6.136711    0.0        0.0\n",
       "7  Littoral_EC   NR5A1  89.604752        7.566905    0.0        0.0"
      ]
     },
     "execution_count": 77,
     "metadata": {},
     "output_type": "execute_result"
    }
   ],
   "source": [
    "dedf.head()"
   ]
  },
  {
   "cell_type": "code",
   "execution_count": 78,
   "id": "595968ad-9eeb-42d7-8372-1ab9b0a261c7",
   "metadata": {},
   "outputs": [
    {
     "name": "stdout",
     "output_type": "stream",
     "text": [
      "> number of DEGs per cell type: \n",
      "\n",
      "blood_brain_barrier_ec    1027\n",
      "brain_ven_ec               733\n",
      "brain_art_ec               461\n",
      "Littoral_EC                306\n",
      "aorta_coronary_ec          201\n",
      "ven_ec_2                   138\n",
      "pericentral_cap_ec          74\n",
      "endocardial_ec              72\n",
      "adip_cap_ec                 66\n",
      "art_ec_1                    59\n",
      "periportal_cap_ec           57\n",
      "glomeruli_ec                54\n",
      "aerocyte_ec                 47\n",
      "pul_art_ec                  45\n",
      "spleen_art_ec               40\n",
      "endometrium_cap_ec          39\n",
      "kidney_art_ec               36\n",
      "art_ec_2                    32\n",
      "pul_tip_cap_ec              27\n",
      "pul_ven_ec                  26\n",
      "pul_cap_ec                  23\n",
      "cap_ec                      23\n",
      "ven_ec_1                    23\n",
      "myo_cap_ec                  19\n",
      "kidney_cap_ec                9\n",
      "Name: group, dtype: int64\n"
     ]
    }
   ],
   "source": [
    "print(f\"> number of DEGs per cell type: \\n\\n{dedf.group.value_counts()}\")"
   ]
  },
  {
   "cell_type": "markdown",
   "id": "db5e5b12-01f6-46e3-931b-716494d8392d",
   "metadata": {},
   "source": [
    "## 3) load regulons"
   ]
  },
  {
   "cell_type": "code",
   "execution_count": 48,
   "id": "6e47afee-d50e-43ac-843a-36ac31ef67b0",
   "metadata": {},
   "outputs": [],
   "source": [
    "# vasculature all\n",
    "f_final_loom = \"/lustre/scratch126/cellgen/team205/jp30/vasculature/vas_pulmonary_24Jul24/outputs/results/AUCell/vas_pulmonary_24Jul24_all_lineage_splitcomb_comb2/vas_pulmonary_24Jul24_all_lineage_splitcomb_comb2_pyscenic_output.loom\""
   ]
  },
  {
   "cell_type": "code",
   "execution_count": 53,
   "id": "81410d27-ac02-4e64-a8db-0dfd7b7cfa3c",
   "metadata": {},
   "outputs": [],
   "source": [
    "# scenic output\n",
    "lf = lp.connect( f_final_loom, mode='r', validate=False )\n",
    "meta = json.loads(zlib.decompress(base64.b64decode( lf.attrs.MetaData )))\n",
    "exprMat = pd.DataFrame( lf[:,:], index=lf.ra.Gene, columns=lf.ca.CellID).T\n",
    "auc_mtx = pd.DataFrame( lf.ca.RegulonsAUC, index=lf.ca.CellID)"
   ]
  },
  {
   "cell_type": "code",
   "execution_count": 54,
   "id": "f57489e0-fcdf-4e0c-b0b7-53aff86c3600",
   "metadata": {},
   "outputs": [
    {
     "name": "stderr",
     "output_type": "stream",
     "text": [
      "/tmp/ipykernel_466998/3801288988.py:3: FutureWarning: iteritems is deprecated and will be removed in a future version. Use .items instead.\n",
      "  for i,r in pd.DataFrame(lf.ra.Regulons,index=lf.ra.Gene).iteritems():\n"
     ]
    }
   ],
   "source": [
    "# create a dictionary of regulons\n",
    "regulons = {}\n",
    "for i,r in pd.DataFrame(lf.ra.Regulons,index=lf.ra.Gene).iteritems():\n",
    "    regulons[i] =  list(r[r==1].index.values)"
   ]
  },
  {
   "cell_type": "code",
   "execution_count": 55,
   "id": "282a71a9-0264-4987-ab5c-445cbbe611db",
   "metadata": {},
   "outputs": [],
   "source": [
    "lf.close()"
   ]
  },
  {
   "cell_type": "code",
   "execution_count": 56,
   "id": "4b13edfa-b4ca-4e74-b616-7bc32068835d",
   "metadata": {},
   "outputs": [
    {
     "data": {
      "text/plain": [
       "['ALX4(+)', 'AR(+)', 'AR(-)', 'ARID3A(+)', 'ARID3A(-)']"
      ]
     },
     "execution_count": 56,
     "metadata": {},
     "output_type": "execute_result"
    }
   ],
   "source": [
    "list(regulons)[:5]"
   ]
  },
  {
   "cell_type": "markdown",
   "id": "ef2dea1d-a77b-4b57-ac79-eded935ea77e",
   "metadata": {},
   "source": [
    "## 4) select FOXF1(+) and subset target genes"
   ]
  },
  {
   "cell_type": "code",
   "execution_count": 62,
   "id": "2a8ce8d3-965e-461d-b78e-49ff6eefe6a2",
   "metadata": {},
   "outputs": [],
   "source": [
    "sel_reg = \"FOXF1(+)\"\n",
    "sel_trg = set(regulons[sel_reg])"
   ]
  },
  {
   "cell_type": "code",
   "execution_count": 63,
   "id": "f829003b-15ef-4fda-bfef-47fe28957aa3",
   "metadata": {},
   "outputs": [
    {
     "name": "stdout",
     "output_type": "stream",
     "text": [
      "number of target genes for 'FOXF1(+)': 343\n"
     ]
    }
   ],
   "source": [
    "print(f\"number of target genes for '{sel_reg}': {len(sel_trg)}\")"
   ]
  },
  {
   "cell_type": "markdown",
   "id": "ddc6f314-8590-4a06-9d86-5d8041b4443a",
   "metadata": {},
   "source": [
    "### subset per cell type"
   ]
  },
  {
   "cell_type": "code",
   "execution_count": 79,
   "id": "eaa9d141-bd7c-4512-b4cb-f4448dbc7e49",
   "metadata": {
    "collapsed": true,
    "jupyter": {
     "outputs_hidden": true
    }
   },
   "outputs": [
    {
     "name": "stdout",
     "output_type": "stream",
     "text": [
      "Littoral_EC\n",
      "adip_cap_ec\n",
      "aerocyte_ec\n",
      "aorta_coronary_ec\n",
      "art_ec_1\n",
      "art_ec_2\n",
      "blood_brain_barrier_ec\n",
      "brain_art_ec\n",
      "brain_ven_ec\n",
      "cap_ec\n",
      "endocardial_ec\n",
      "endometrium_cap_ec\n",
      "glomeruli_ec\n",
      "kidney_art_ec\n",
      "kidney_cap_ec\n",
      "myo_cap_ec\n",
      "pericentral_cap_ec\n",
      "periportal_cap_ec\n",
      "pul_art_ec\n",
      "pul_cap_ec\n",
      "pul_tip_cap_ec\n",
      "pul_ven_ec\n",
      "spleen_art_ec\n",
      "ven_ec_1\n",
      "ven_ec_2\n"
     ]
    }
   ],
   "source": [
    "sel_subsets = {}\n",
    "\n",
    "for cell_type in dedf.group.unique().tolist():\n",
    "    de_genes = dedf.query(f\"group == '{cell_type}'\").names.unique().tolist()\n",
    "    sel_subsets[cell_type] = sel_trg & set(de_genes)"
   ]
  },
  {
   "cell_type": "code",
   "execution_count": 80,
   "id": "d87bb45a-150b-4e54-9f2e-51d811ff3ba5",
   "metadata": {},
   "outputs": [
    {
     "name": "stdout",
     "output_type": "stream",
     "text": [
      "number of FOXF1(+) target genes per cell type:\n",
      "  - Littoral_EC: 7\n",
      "  - adip_cap_ec: 1\n",
      "  - aerocyte_ec: 22\n",
      "  - aorta_coronary_ec: 4\n",
      "  - art_ec_1: 4\n",
      "  - art_ec_2: 2\n",
      "  - blood_brain_barrier_ec: 35\n",
      "  - brain_art_ec: 16\n",
      "  - brain_ven_ec: 16\n",
      "  - cap_ec: 0\n",
      "  - endocardial_ec: 1\n",
      "  - endometrium_cap_ec: 0\n",
      "  - glomeruli_ec: 6\n",
      "  - kidney_art_ec: 1\n",
      "  - kidney_cap_ec: 0\n",
      "  - myo_cap_ec: 0\n",
      "  - pericentral_cap_ec: 1\n",
      "  - periportal_cap_ec: 3\n",
      "  - pul_art_ec: 15\n",
      "  - pul_cap_ec: 14\n",
      "  - pul_tip_cap_ec: 5\n",
      "  - pul_ven_ec: 1\n",
      "  - spleen_art_ec: 2\n",
      "  - ven_ec_1: 1\n",
      "  - ven_ec_2: 0\n"
     ]
    }
   ],
   "source": [
    "print(f\"number of {sel_reg} target genes per cell type:\\n\\n\" + \"\\n\".join(f\"  - {k}: {len(v)}\" for k, v in sel_subsets.items()))"
   ]
  },
  {
   "cell_type": "markdown",
   "id": "5356e8fe-c372-4364-8a0a-8e957434c44b",
   "metadata": {},
   "source": [
    "## 5) export data frame for import in Cytoscape"
   ]
  },
  {
   "cell_type": "code",
   "execution_count": 84,
   "id": "e16a684b-21ef-4027-b0a8-031cce83e7bd",
   "metadata": {},
   "outputs": [],
   "source": [
    "sel_cell_types = ['pul_ven_ec', 'pul_tip_cap_ec', 'pul_cap_ec', 'pul_art_ec', 'aerocyte_ec']"
   ]
  },
  {
   "cell_type": "code",
   "execution_count": 113,
   "id": "a1eaacd3-e6ef-487e-ac71-1806a27f4d4d",
   "metadata": {},
   "outputs": [],
   "source": [
    "target_gene_df = pd.DataFrame({ct: {tg: 1 for tg in tgs} for ct, tgs in sel_subsets.items() if ct in sel_cell_types})\n",
    "target_gene_df[target_gene_df.isna()] = 0\n",
    "\n",
    "# get fractions\n",
    "target_gene_df = (target_gene_df.T / target_gene_df.sum(axis=1)).T\n",
    "\n",
    "# add source and target columns\n",
    "target_gene_df.insert(0, 'target', target_gene_df.index.tolist())\n",
    "target_gene_df = target_gene_df.reset_index(drop=True)\n",
    "target_gene_df.insert(0, 'source', sel_reg)"
   ]
  },
  {
   "cell_type": "code",
   "execution_count": 112,
   "id": "c9d51383-d5f1-43f2-9d3a-0401c4cfc694",
   "metadata": {},
   "outputs": [
    {
     "data": {
      "text/html": [
       "<div>\n",
       "<style scoped>\n",
       "    .dataframe tbody tr th:only-of-type {\n",
       "        vertical-align: middle;\n",
       "    }\n",
       "\n",
       "    .dataframe tbody tr th {\n",
       "        vertical-align: top;\n",
       "    }\n",
       "\n",
       "    .dataframe thead th {\n",
       "        text-align: right;\n",
       "    }\n",
       "</style>\n",
       "<table border=\"1\" class=\"dataframe\">\n",
       "  <thead>\n",
       "    <tr style=\"text-align: right;\">\n",
       "      <th></th>\n",
       "      <th>source</th>\n",
       "      <th>target</th>\n",
       "      <th>aerocyte_ec</th>\n",
       "      <th>pul_art_ec</th>\n",
       "      <th>pul_cap_ec</th>\n",
       "      <th>pul_tip_cap_ec</th>\n",
       "      <th>pul_ven_ec</th>\n",
       "    </tr>\n",
       "  </thead>\n",
       "  <tbody>\n",
       "    <tr>\n",
       "      <th>0</th>\n",
       "      <td>FOXF1(+)</td>\n",
       "      <td>TBX3</td>\n",
       "      <td>1.0</td>\n",
       "      <td>0.0</td>\n",
       "      <td>0.0</td>\n",
       "      <td>0.0</td>\n",
       "      <td>0.0</td>\n",
       "    </tr>\n",
       "    <tr>\n",
       "      <th>1</th>\n",
       "      <td>FOXF1(+)</td>\n",
       "      <td>OCLN</td>\n",
       "      <td>1.0</td>\n",
       "      <td>0.0</td>\n",
       "      <td>0.0</td>\n",
       "      <td>0.0</td>\n",
       "      <td>0.0</td>\n",
       "    </tr>\n",
       "    <tr>\n",
       "      <th>2</th>\n",
       "      <td>FOXF1(+)</td>\n",
       "      <td>RCSD1</td>\n",
       "      <td>1.0</td>\n",
       "      <td>0.0</td>\n",
       "      <td>0.0</td>\n",
       "      <td>0.0</td>\n",
       "      <td>0.0</td>\n",
       "    </tr>\n",
       "    <tr>\n",
       "      <th>3</th>\n",
       "      <td>FOXF1(+)</td>\n",
       "      <td>PRX</td>\n",
       "      <td>0.5</td>\n",
       "      <td>0.0</td>\n",
       "      <td>0.5</td>\n",
       "      <td>0.0</td>\n",
       "      <td>0.0</td>\n",
       "    </tr>\n",
       "    <tr>\n",
       "      <th>4</th>\n",
       "      <td>FOXF1(+)</td>\n",
       "      <td>ITGA3</td>\n",
       "      <td>1.0</td>\n",
       "      <td>0.0</td>\n",
       "      <td>0.0</td>\n",
       "      <td>0.0</td>\n",
       "      <td>0.0</td>\n",
       "    </tr>\n",
       "  </tbody>\n",
       "</table>\n",
       "</div>"
      ],
      "text/plain": [
       "     source target  aerocyte_ec  pul_art_ec  pul_cap_ec  pul_tip_cap_ec  \\\n",
       "0  FOXF1(+)   TBX3          1.0         0.0         0.0             0.0   \n",
       "1  FOXF1(+)   OCLN          1.0         0.0         0.0             0.0   \n",
       "2  FOXF1(+)  RCSD1          1.0         0.0         0.0             0.0   \n",
       "3  FOXF1(+)    PRX          0.5         0.0         0.5             0.0   \n",
       "4  FOXF1(+)  ITGA3          1.0         0.0         0.0             0.0   \n",
       "\n",
       "   pul_ven_ec  \n",
       "0         0.0  \n",
       "1         0.0  \n",
       "2         0.0  \n",
       "3         0.0  \n",
       "4         0.0  "
      ]
     },
     "execution_count": 112,
     "metadata": {},
     "output_type": "execute_result"
    }
   ],
   "source": [
    "target_gene_df.head()"
   ]
  },
  {
   "cell_type": "code",
   "execution_count": 114,
   "id": "d81c69f6-8db6-45c2-aa57-8de4c57ba99a",
   "metadata": {},
   "outputs": [],
   "source": [
    "target_gene_df.to_csv(f'{sel_reg}_for_cytoscape.csv')"
   ]
  },
  {
   "cell_type": "code",
   "execution_count": null,
   "id": "7d5fb09a-e2d7-4263-85b7-cb14d8ae14d8",
   "metadata": {},
   "outputs": [],
   "source": []
  },
  {
   "cell_type": "markdown",
   "id": "7775ba89-af9d-4731-b4d1-0a5e1c697ab6",
   "metadata": {},
   "source": [
    "## 6) plotting in Cytoscape"
   ]
  },
  {
   "cell_type": "markdown",
   "id": "13950236-d47f-44da-930c-bacf2b7367c0",
   "metadata": {},
   "source": [
    "plot [node charts](https://manual.cytoscape.org/en/stable/Styles.html#tutorial-6-creating-node-charts) in [Cytoscape](https://cytoscape.org/):\n",
    "\n",
    "1. load the network from CSV file\n",
    "    - File > Import > Network from File\n",
    "    - select \"*_for_cytoscape.csv\"\n",
    "    - select fraction columns as target node attribute\n",
    "2. go to styles panel\n",
    "    - select Image/Chart > select all columns > choose pie diagram\n",
    "    - change node shape to circle\n",
    "    - adjust other styles as needed\n",
    "3. the order of colors under Image/Chart > Customize corresponds to the order of columns\n",
    "4. export as PDF and make legend manually"
   ]
  },
  {
   "cell_type": "code",
   "execution_count": null,
   "id": "505e3c66-f86b-423d-884d-d2f218bf1457",
   "metadata": {},
   "outputs": [],
   "source": []
  },
  {
   "cell_type": "code",
   "execution_count": null,
   "id": "8969b1c3-145c-4169-a1cf-d85b3703db51",
   "metadata": {},
   "outputs": [],
   "source": []
  },
  {
   "cell_type": "code",
   "execution_count": null,
   "id": "84f38c56-5f47-4569-94ec-9daf10ba17b2",
   "metadata": {},
   "outputs": [],
   "source": []
  }
 ],
 "metadata": {
  "kernelspec": {
   "display_name": "scenicplus",
   "language": "python",
   "name": "scenicplus"
  },
  "language_info": {
   "codemirror_mode": {
    "name": "ipython",
    "version": 3
   },
   "file_extension": ".py",
   "mimetype": "text/x-python",
   "name": "python",
   "nbconvert_exporter": "python",
   "pygments_lexer": "ipython3",
   "version": "3.8.17"
  }
 },
 "nbformat": 4,
 "nbformat_minor": 5
}
