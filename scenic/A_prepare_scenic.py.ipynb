{
 "cells": [
  {
   "cell_type": "markdown",
   "id": "public-strengthening",
   "metadata": {},
   "source": [
    "# preprocess"
   ]
  },
  {
   "cell_type": "code",
   "execution_count": null,
   "id": "07b8d8e7-940f-431c-a593-f1fa1359646f",
   "metadata": {},
   "outputs": [],
   "source": [
    "import sys\n",
    "import os\n",
    "import logging as log\n",
    "from pathlib import Path\n",
    "\n",
    "import numpy as np\n",
    "import scipy as sp\n",
    "import pandas as pd\n",
    "\n",
    "import scanpy as sc\n",
    "import loompy as lp\n",
    "\n",
    "import matplotlib.pyplot as plt\n",
    "import seaborn as sns\n",
    "from IPython.display import display, Markdown\n",
    "\n",
    "from scanpy_helpers import get_metacells"
   ]
  },
  {
   "cell_type": "code",
   "execution_count": null,
   "id": "mature-michael",
   "metadata": {},
   "outputs": [],
   "source": [
    "log.basicConfig(level=log.INFO)\n",
    "sc.settings.njobs = 8"
   ]
  },
  {
   "cell_type": "markdown",
   "id": "logical-muslim",
   "metadata": {},
   "source": [
    "## params"
   ]
  },
  {
   "cell_type": "code",
   "execution_count": null,
   "id": "double-maintenance",
   "metadata": {},
   "outputs": [],
   "source": [
    "# input\n",
    "load_anndata = \"anndata.h5ad\"\n",
    "\n",
    "# output\n",
    "output_dir = \"outputs/prepare_scenic/\"\n",
    "f_loom_path_scenic = \"outputs/prepare_scenic/filtered_scenic.loom\"\n",
    "cellt_map = \"barcode_celltype_map.csv\"\n",
    "\n",
    "# params\n",
    "annot_column = \"ann_vas_2\"\n",
    "cell_types = ['capillary EC', 'venous EC', 'arterial EC', 'endocardial EC', 'littoral cells', 'lymphatic EC', 'pericytes', 'smooth muscle']  # subset to specific cell types"
   ]
  },
  {
   "cell_type": "markdown",
   "id": "unknown-violence",
   "metadata": {},
   "source": [
    "## 1) Load data"
   ]
  },
  {
   "cell_type": "markdown",
   "id": "herbal-kingdom",
   "metadata": {},
   "source": [
    "### single cell dataset"
   ]
  },
  {
   "cell_type": "code",
   "execution_count": null,
   "id": "typical-tract",
   "metadata": {},
   "outputs": [],
   "source": [
    "log.info(f\"load anndata: {load_anndata}\")\n",
    "\n",
    "ad = sc.read_h5ad(load_anndata)"
   ]
  },
  {
   "cell_type": "code",
   "execution_count": null,
   "id": "northern-newfoundland",
   "metadata": {},
   "outputs": [],
   "source": [
    "if ad.raw:\n",
    "    ad = ad.raw.to_adata()\n",
    "elif ad.X.shape[1] < 15000:\n",
    "    raise ValueError(\"anndata genes dimension seems to be filtered\")\n",
    "\n",
    "ad.raw = ad"
   ]
  },
  {
   "cell_type": "markdown",
   "id": "75d9bf10-e836-4d65-82e4-96686402c5d0",
   "metadata": {},
   "source": [
    "save var names to gene symbols"
   ]
  },
  {
   "cell_type": "code",
   "execution_count": null,
   "id": "promising-crack",
   "metadata": {},
   "outputs": [],
   "source": [
    "ad_sub.var[\"gene_symbol\"] = ad_sub.var_names.tolist()\n",
    "ad_sub.var = ad_sub.var.set_index(\"gene_symbol\")"
   ]
  },
  {
   "cell_type": "markdown",
   "id": "authorized-talent",
   "metadata": {},
   "source": [
    "#### UMAP"
   ]
  },
  {
   "cell_type": "code",
   "execution_count": null,
   "id": "present-shooting",
   "metadata": {
    "tags": []
   },
   "outputs": [],
   "source": [
    "log.info(\"plot UMAP\")\n",
    "\n",
    "try:\n",
    "    with plt.rc_context({\"figure.figsize\": (15,15), \"figure.dpi\": 300, \"figure.frameon\": False}):\n",
    "        sc.pl.umap(\n",
    "            ad,\n",
    "            color=annot_column,\n",
    "            alpha=0.7,\n",
    "            size=50,\n",
    "            add_outline=True,\n",
    "            outline_width = (0.25, 2.5),\n",
    "            legend_fontoutline=3,\n",
    "            legend_loc=\"on data\",\n",
    "            title = \"\"\n",
    "        )\n",
    "except:\n",
    "    pass"
   ]
  },
  {
   "cell_type": "markdown",
   "id": "english-emperor",
   "metadata": {},
   "source": [
    "## 2) Subset data"
   ]
  },
  {
   "cell_type": "markdown",
   "id": "respected-essay",
   "metadata": {},
   "source": [
    "### subset cells"
   ]
  },
  {
   "cell_type": "code",
   "execution_count": null,
   "id": "biblical-gender",
   "metadata": {},
   "outputs": [],
   "source": [
    "log.info(\"subset cells\")"
   ]
  },
  {
   "cell_type": "code",
   "execution_count": null,
   "id": "eastern-contributor",
   "metadata": {
    "tags": []
   },
   "outputs": [],
   "source": [
    "if cell_types:\n",
    "    ad_sub = ad[ad.obs[annot_column].isin(cell_types)]\n",
    "else:\n",
    "    ad_sub = ad"
   ]
  },
  {
   "cell_type": "markdown",
   "id": "reserved-bangkok",
   "metadata": {},
   "source": [
    "### filtering"
   ]
  },
  {
   "cell_type": "code",
   "execution_count": null,
   "id": "designing-slovenia",
   "metadata": {},
   "outputs": [],
   "source": [
    "sc.pp.filter_cells(ad_sub, min_genes = 100)\n",
    "sc.pp.filter_genes(ad_sub, min_cells=3)\n",
    "\n",
    "ad_sub = ad_sub[ad_sub.obs['n_genes'] < 7000, :]\n",
    "ad_sub = ad_sub[ad_sub.obs['percent_mito'] < 0.15, :]"
   ]
  },
  {
   "cell_type": "markdown",
   "id": "biological-chile",
   "metadata": {},
   "source": [
    "### save barcode celltype mapping"
   ]
  },
  {
   "cell_type": "code",
   "execution_count": null,
   "id": "intensive-painting",
   "metadata": {},
   "outputs": [],
   "source": [
    "ad_sub.obs[\"celltype_annotation\"] = ad_sub.obs[annot_column]\n",
    "ad_sub.obs[\"celltype_annotation\"].to_csv(cellt_map)"
   ]
  },
  {
   "cell_type": "markdown",
   "id": "existing-webcam",
   "metadata": {},
   "source": [
    "## 4) Create metacells"
   ]
  },
  {
   "cell_type": "markdown",
   "id": "composed-vision",
   "metadata": {},
   "source": [
    "### compute connectivities"
   ]
  },
  {
   "cell_type": "code",
   "execution_count": null,
   "id": "ordered-pillow",
   "metadata": {},
   "outputs": [],
   "source": [
    "log.info(\"compute connectivities\")"
   ]
  },
  {
   "cell_type": "code",
   "execution_count": null,
   "id": "extensive-special",
   "metadata": {},
   "outputs": [],
   "source": [
    "ad_sub.raw = ad_sub"
   ]
  },
  {
   "cell_type": "code",
   "execution_count": null,
   "id": "limiting-tutorial",
   "metadata": {},
   "outputs": [],
   "source": [
    "# fix an error where 'log1p' entry missing in anndata object\n",
    "if \"log1p\" not in ad_sub.uns:\n",
    "    log.warning(\"'log1p' not in adata.uns\")\n",
    "    ad_sub.uns[\"log1p\"] = {}\n",
    "if \"base\" not in ad_sub.uns[\"log1p\"]:\n",
    "    log.warning(\"'base' of log not stored in adata.uns\")\n",
    "    ad_sub.uns[\"log1p\"][\"base\"] = None"
   ]
  },
  {
   "cell_type": "code",
   "execution_count": null,
   "id": "3544d642-0700-4782-bddd-946104530181",
   "metadata": {},
   "outputs": [],
   "source": [
    "sc.pp.highly_variable_genes(ad_sub)\n",
    "\n",
    "sc.pp.scale(ad_sub)\n",
    "sc.tl.pca(ad_sub)\n",
    "\n",
    "sc.pp.neighbors(ad_sub)"
   ]
  },
  {
   "cell_type": "code",
   "execution_count": null,
   "id": "binding-mechanics",
   "metadata": {},
   "outputs": [],
   "source": [
    "sc.tl.umap(ad_sub)"
   ]
  },
  {
   "cell_type": "code",
   "execution_count": null,
   "id": "individual-default",
   "metadata": {
    "tags": []
   },
   "outputs": [],
   "source": [
    "sc.pl.umap(ad_sub, color = [annot_column, batch_column] if batch_column else annot_column)"
   ]
  },
  {
   "cell_type": "code",
   "execution_count": null,
   "id": "ordered-guyana",
   "metadata": {},
   "outputs": [],
   "source": [
    "ad_sub.X = ad_sub.raw.X"
   ]
  },
  {
   "cell_type": "markdown",
   "id": "1f286497-6e6f-4a81-9467-9067e9d83f6c",
   "metadata": {},
   "source": [
    "### determine pseudobulk size"
   ]
  },
  {
   "cell_type": "code",
   "execution_count": null,
   "id": "legendary-norfolk",
   "metadata": {},
   "outputs": [],
   "source": [
    "n_cells = ad_sub.X.shape[0]\n",
    "\n",
    "pseudobulk_size = 0\n",
    "target_ncells = 10000\n",
    "extend_pseudobulk_size_up_to = 25\n",
    "subsample = 5000\n",
    "\n",
    "if target_ncells and not pseudobulk_size:\n",
    "    pseudobulk_size = round(n_cells / target_ncells)\n",
    "    \n",
    "    if subsample > 1 and subsample < target_ncells:\n",
    "        # make larger pseudobulks instead of subsampling if possible\n",
    "        larger_pseudobulk_size = round(n_cells / subsample)\n",
    "        if larger_pseudobulk_size < extend_pseudobulk_size_up_to:\n",
    "            pseudobulk_size = larger_pseudobulk_size\n",
    "            subsample = 0"
   ]
  },
  {
   "cell_type": "markdown",
   "id": "hawaiian-judgment",
   "metadata": {},
   "source": [
    "### make metacells"
   ]
  },
  {
   "cell_type": "code",
   "execution_count": null,
   "id": "provincial-frost",
   "metadata": {},
   "outputs": [],
   "source": [
    "log.info(\"compute mini-pseudobulks\")\n",
    "\n",
    "ad_sub = get_metacells(ad_sub, max_group_size = pseudobulk_size)\n",
    "\n",
    "sc.pp.calculate_qc_metrics(ad_sub, log1p=False, inplace=True)"
   ]
  },
  {
   "cell_type": "markdown",
   "id": "fc6f7bc8-e694-4be7-b22d-6a55c40c1e82",
   "metadata": {},
   "source": [
    "### Subsample"
   ]
  },
  {
   "cell_type": "code",
   "execution_count": null,
   "id": "8ae14c5d-e3ed-412f-84ca-2feeeb214240",
   "metadata": {
    "tags": []
   },
   "outputs": [],
   "source": [
    "if subsample:\n",
    "    if subsample > 1:\n",
    "        # by total number\n",
    "        ad_sub = sc.pp.subsample(ad_sub, n_obs=int(subsample), copy=True)\n",
    "    else:\n",
    "        # by fraction\n",
    "        ad_sub = sc.pp.subsample(ad_sub, fraction=float(subsample), copy=True)"
   ]
  },
  {
   "cell_type": "markdown",
   "id": "sunrise-swedish",
   "metadata": {},
   "source": [
    "### Normalise"
   ]
  },
  {
   "cell_type": "code",
   "execution_count": null,
   "id": "b89814d7-de8c-47b6-8855-5413403cfd0d",
   "metadata": {},
   "outputs": [],
   "source": [
    "ad_sub.raw = ad_sub\n",
    "\n",
    "sc.pp.highly_variable_genes(ad_sub)\n",
    "\n",
    "sc.pp.scale(ad_sub)\n",
    "sc.tl.pca(ad_sub)\n",
    "\n",
    "sc.pp.neighbors(ad_sub)"
   ]
  },
  {
   "cell_type": "code",
   "execution_count": null,
   "id": "starting-mathematics",
   "metadata": {},
   "outputs": [],
   "source": [
    "sc.tl.umap(ad_sub)"
   ]
  },
  {
   "cell_type": "code",
   "execution_count": null,
   "id": "historical-belly",
   "metadata": {
    "tags": []
   },
   "outputs": [],
   "source": [
    "sc.pl.umap(ad_sub, color = annot_column)"
   ]
  },
  {
   "cell_type": "markdown",
   "id": "hired-graduate",
   "metadata": {},
   "source": [
    "## 5) Save loom file"
   ]
  },
  {
   "cell_type": "markdown",
   "id": "prostate-hollow",
   "metadata": {},
   "source": [
    "Output the basic filtered expression matrix to a loom file.  \n",
    "\n",
    "This can also be used in the command-line pySCENIC steps"
   ]
  },
  {
   "cell_type": "code",
   "execution_count": null,
   "id": "running-chemical",
   "metadata": {
    "tags": []
   },
   "outputs": [],
   "source": [
    "log.info(\"save to loom file\")\n",
    "\n",
    "# create basic row and column attributes for the loom file:\n",
    "row_attrs = {\n",
    "    \"Gene\": np.array(ad_sub.var_names) ,\n",
    "}\n",
    "col_attrs = {\n",
    "    \"CellID\": np.array(ad_sub.obs_names) ,\n",
    "    \"nGene\": np.array( np.sum(ad_sub.X.transpose()>0 , axis=0)).flatten() ,\n",
    "    \"nUMI\": np.array( np.sum(ad_sub.X.transpose() , axis=0)).flatten() ,\n",
    "}\n",
    "lp.create( str(f_loom_path_scenic), ad_sub.X.transpose(), row_attrs, col_attrs)"
   ]
  },
  {
   "cell_type": "code",
   "execution_count": null,
   "id": "corrected-copyright",
   "metadata": {},
   "outputs": [],
   "source": [
    "log.info(\"done.\")"
   ]
  },
  {
   "cell_type": "code",
   "execution_count": null,
   "id": "2723bd16-3596-402c-8802-e1086d00839f",
   "metadata": {},
   "outputs": [],
   "source": []
  }
 ],
 "metadata": {
  "kernelspec": {
   "display_name": "scenic",
   "language": "python",
   "name": "scenic"
  },
  "language_info": {
   "codemirror_mode": {
    "name": "ipython",
    "version": 3
   },
   "file_extension": ".py",
   "mimetype": "text/x-python",
   "name": "python",
   "nbconvert_exporter": "python",
   "pygments_lexer": "ipython3",
   "version": "3.7.10"
  }
 },
 "nbformat": 4,
 "nbformat_minor": 5
}
